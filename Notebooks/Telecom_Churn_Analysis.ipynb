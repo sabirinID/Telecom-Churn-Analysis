{
  "cells": [
    {
      "attachments": {},
      "cell_type": "markdown",
      "metadata": {
        "id": "NYFbGuOtpAMZ"
      },
      "source": [
        "# **Telecom Churn Analysis**\n",
        "---"
      ]
    },
    {
      "attachments": {},
      "cell_type": "markdown",
      "metadata": {
        "id": "CMtD_7C4l4s4"
      },
      "source": [
        "# Import Library"
      ]
    },
    {
      "cell_type": "code",
      "execution_count": null,
      "metadata": {
        "id": "STAx9eYGl8Yn"
      },
      "outputs": [],
      "source": [
        "# Data manipulation\n",
        "import numpy as np\n",
        "import pandas as pd\n",
        "\n",
        "# Data visualization\n",
        "import matplotlib as mpl\n",
        "import matplotlib.pyplot as plt\n",
        "import seaborn as sns\n",
        "\n",
        "import warnings\n",
        "warnings.filterwarnings('ignore')"
      ]
    },
    {
      "cell_type": "code",
      "execution_count": null,
      "metadata": {
        "id": "uMvIHvcRPqOW"
      },
      "outputs": [],
      "source": [
        "pd.set_option('display.max_columns', None)\n",
        "pd.set_option('display.max_rows', None)"
      ]
    },
    {
      "attachments": {},
      "cell_type": "markdown",
      "metadata": {
        "id": "wZ-93F_nlN5E"
      },
      "source": [
        "# Read Data"
      ]
    },
    {
      "attachments": {},
      "cell_type": "markdown",
      "metadata": {
        "id": "mMQddLzCgIsB"
      },
      "source": [
        "**Data Source**\n",
        "\n",
        "- Dataset title: Telco Customer Churn\n",
        "- Dataset source URL: https://raw.githubusercontent.com/IBM/telco-customer-churn-on-icp4d/master/data/Telco-Customer-Churn.csv\n",
        "- Dataset source description (Github repository managed by IBM): https://github.com/IBM/telco-customer-churn-on-icp4d"
      ]
    },
    {
      "cell_type": "code",
      "execution_count": null,
      "metadata": {
        "colab": {
          "base_uri": "https://localhost:8080/",
          "height": 357
        },
        "id": "eMKd2lTwE0hT",
        "outputId": "c4375cb4-3df2-447d-f91c-b08cc4c75376"
      },
      "outputs": [],
      "source": [
        "# Read data\n",
        "link = 'https://raw.githubusercontent.com/IBM/telco-customer-churn-on-icp4d/master/data/Telco-Customer-Churn.csv'\n",
        "data = pd.read_csv(link)\n",
        "\n",
        "# Check the sample\n",
        "data.sample(n=5, random_state=100)"
      ]
    },
    {
      "attachments": {},
      "cell_type": "markdown",
      "metadata": {
        "id": "ta5YkwnKmgyW"
      },
      "source": [
        "# 0. Data Understanding"
      ]
    },
    {
      "attachments": {},
      "cell_type": "markdown",
      "metadata": {
        "id": "5F8SUT9btbWs"
      },
      "source": [
        "## 0.1. Features Definition"
      ]
    },
    {
      "attachments": {},
      "cell_type": "markdown",
      "metadata": {
        "id": "mO3KjuXEtdyD"
      },
      "source": [
        "| Feature Name              | Feature Description        |\n",
        "|---------------------------|----------------------------|\n",
        "| customerID                | A unique ID that identifies each customer.                   |\n",
        "| gender                    | The customer’s gender: Male, Female.                     |\n",
        "| SeniorCitizen             | Indicates if the customer is 65 or older.                      |\n",
        "| Partner                   | Indicates if the customer has a partner or not.                        |\n",
        "| Dependents                | Indicates if the customer lives with any dependents or not.          |\n",
        "| tenure                    | Number of months the customer has stayed with the company.                |\n",
        "| PhoneService              | Indicates if the customer has a phone service or not.                        |\n",
        "| MultipleLines             | Indicates if the customer subscribes to multiple telephone lines with the company.                        |\n",
        "| InternetService           | Indicates if the customer subscribes to Internet service with the company.                   |\n",
        "| OnlineSecurity            | Indicates if the customer subscribes to an additional online security service provided by the company.                        |\n",
        "| OnlineBackup              | Indicates if the customer subscribes to an additional online backup service provided by the company.               |\n",
        "| DeviceProtection          | Indicates if the customer subscribes to an additional device protection plan for their Internet equipment provided by the company.                |\n",
        "| TechSupport               | Indicates if the customer subscribes to an additional technical support plan from the company with reduced wait times.                      |\n",
        "| StreamingTV               | Indicates if the customer uses their Internet service to stream television programming from a third party provider.                   |\n",
        "| StreamingMovies           | Indicates if the customer uses their Internet service to stream movies from a third party provider.                   |\n",
        "| Contract                  | Indicates the customer’s current contract type.                       |\n",
        "| PaperlessBilling          | Indicates if the customer has chosen paperless billing.                    |\n",
        "| PaymentMethod             | Indicates how the customer pays their bill.                       |\n",
        "| MonthlyCharges            | Indicates the customer’s current total monthly charge for all their services from the company.                         |\n",
        "| TotalCharges              | Indicates the customer’s total charges, calculated to the end of the quarter specified above.                   |\n",
        "| Churn                     | Indicates if the customer stop using company's service.                    |"
      ]
    },
    {
      "attachments": {},
      "cell_type": "markdown",
      "metadata": {
        "id": "sasDTrAxmr2w"
      },
      "source": [
        "## 0.2. Dimensions of the DataFrame"
      ]
    },
    {
      "cell_type": "code",
      "execution_count": null,
      "metadata": {
        "colab": {
          "base_uri": "https://localhost:8080/"
        },
        "id": "Mp25Dk5hlUx-",
        "outputId": "1978055d-ba92-45da-efc5-f5713ccad39b"
      },
      "outputs": [],
      "source": [
        "data.shape"
      ]
    },
    {
      "cell_type": "code",
      "execution_count": null,
      "metadata": {
        "colab": {
          "base_uri": "https://localhost:8080/"
        },
        "id": "CxecHIWMmF59",
        "outputId": "13c6c881-63ee-45dd-e887-e891e193275c"
      },
      "outputs": [],
      "source": [
        "print('This dataset has data dimensions:')\n",
        "print('Number of rows: {}'.format(data.shape[0]))\n",
        "print('Number of cols: {}'.format(data.shape[1]))"
      ]
    },
    {
      "attachments": {},
      "cell_type": "markdown",
      "metadata": {
        "id": "B9E3fNEem6cJ"
      },
      "source": [
        "## 0.3. Data Types of the Features"
      ]
    },
    {
      "cell_type": "code",
      "execution_count": null,
      "metadata": {
        "colab": {
          "base_uri": "https://localhost:8080/"
        },
        "id": "7GBhCH7ymuJo",
        "outputId": "7dcc0e6c-a28b-4077-dc65-3b3d93b00103"
      },
      "outputs": [],
      "source": [
        "# Check details of the DataFrame \n",
        "data.info()"
      ]
    },
    {
      "cell_type": "code",
      "execution_count": null,
      "metadata": {
        "colab": {
          "base_uri": "https://localhost:8080/",
          "height": 475
        },
        "id": "mLrLM53vNINy",
        "outputId": "6b369bc2-62b9-4d00-8403-2af23245eb4f"
      },
      "outputs": [],
      "source": [
        "# Statistics for the columns (features)\n",
        "data.describe(include='all')"
      ]
    },
    {
      "attachments": {},
      "cell_type": "markdown",
      "metadata": {
        "id": "FHE3i0ecO3ex"
      },
      "source": [
        "- The `customerID` column can be dropped.\n",
        "- The `tenure` column between 0 (indicating new customers) and 6 years (72 months).\n",
        "- The `MonthlyCharges` column between 18.25 and 118.75.\n",
        "- We need to convert the `TotalCharges` column from an object to a numeric data type."
      ]
    },
    {
      "cell_type": "code",
      "execution_count": null,
      "metadata": {
        "id": "GnBSLSjOSwJx"
      },
      "outputs": [],
      "source": [
        "# Drop customerID\n",
        "data = data.drop('customerID', axis=1)"
      ]
    },
    {
      "cell_type": "code",
      "execution_count": null,
      "metadata": {
        "id": "4CIVh82wTNEn"
      },
      "outputs": [],
      "source": [
        "# Change TotalCharges to numeric dtype\n",
        "data['TotalCharges'] = pd.to_numeric(data['TotalCharges'], errors='coerce')"
      ]
    },
    {
      "cell_type": "code",
      "execution_count": null,
      "metadata": {
        "colab": {
          "base_uri": "https://localhost:8080/",
          "height": 475
        },
        "id": "qfvk-k7STTdd",
        "outputId": "7c903ec2-ab98-495d-9d81-c80b80114ca7"
      },
      "outputs": [],
      "source": [
        "data.describe(include='all')"
      ]
    },
    {
      "attachments": {},
      "cell_type": "markdown",
      "metadata": {
        "id": "vR47-TS7nSJf"
      },
      "source": [
        "## 0.4. Detect Missing Values"
      ]
    },
    {
      "cell_type": "code",
      "execution_count": null,
      "metadata": {
        "colab": {
          "base_uri": "https://localhost:8080/"
        },
        "id": "uPPlEoIXY2GU",
        "outputId": "b7c6ae64-33d2-4646-b676-b8bfb0f7d275"
      },
      "outputs": [],
      "source": [
        "# Check the features that have missing values\n",
        "print(data.isna().values.any())\n",
        "data.isna().sum()"
      ]
    },
    {
      "cell_type": "code",
      "execution_count": null,
      "metadata": {
        "id": "VRrkBh6aU2Lh"
      },
      "outputs": [],
      "source": [
        "# Handle missing values\n",
        "from sklearn.impute import SimpleImputer\n",
        "\n",
        "# Find the column number for TotalCharges (starting at 0).\n",
        "total_charges_idx = data.columns.get_loc('TotalCharges')\n",
        "imputer = SimpleImputer(missing_values=np.nan, strategy='mean')\n",
        "\n",
        "data.iloc[:, total_charges_idx] = pd.Series(imputer.fit_transform(data.iloc[:, total_charges_idx].values.reshape(-1, 1)).flatten())"
      ]
    },
    {
      "cell_type": "code",
      "execution_count": null,
      "metadata": {
        "colab": {
          "base_uri": "https://localhost:8080/"
        },
        "id": "2zo9cnjcVM7V",
        "outputId": "432f1eab-8887-493a-b2bb-681f008021ba"
      },
      "outputs": [],
      "source": [
        "# Confirm that all NaN values have been addressed\n",
        "print(data.isna().values.any())\n",
        "data.isna().sum()"
      ]
    },
    {
      "attachments": {},
      "cell_type": "markdown",
      "metadata": {
        "id": "bBMURDAAnyZG"
      },
      "source": [
        "## 0.5. Detect Duplicate Values"
      ]
    },
    {
      "cell_type": "code",
      "execution_count": null,
      "metadata": {
        "colab": {
          "base_uri": "https://localhost:8080/"
        },
        "id": "tb7yNlUOpUQi",
        "outputId": "9aeda270-1ef0-444e-8845-01be1d0faea2"
      },
      "outputs": [],
      "source": [
        "# Check the features that have duplicate values\n",
        "print(data.duplicated().any())\n",
        "data.duplicated().sum()"
      ]
    },
    {
      "attachments": {},
      "cell_type": "markdown",
      "metadata": {
        "id": "vUs-9IWUYBvM"
      },
      "source": [
        "- Even though there are detected duplicate data, this dataset is considered unique."
      ]
    },
    {
      "attachments": {},
      "cell_type": "markdown",
      "metadata": {
        "id": "kHkQsPA_orWA"
      },
      "source": [
        "## 0.6. Number of Unique Classes"
      ]
    },
    {
      "cell_type": "code",
      "execution_count": null,
      "metadata": {
        "colab": {
          "base_uri": "https://localhost:8080/"
        },
        "id": "jMA0kUCCoq69",
        "outputId": "58757f79-542b-4ad2-8709-6545cda6310d"
      },
      "outputs": [],
      "source": [
        "# Count number of unique class\n",
        "uniques = data.nunique().sort_values(ascending = False)\n",
        "uniques"
      ]
    },
    {
      "attachments": {},
      "cell_type": "markdown",
      "metadata": {
        "id": "E3-0ER2Dtx_R"
      },
      "source": [
        "# 1. Exploratory Data Analysis (EDA)"
      ]
    },
    {
      "attachments": {},
      "cell_type": "markdown",
      "metadata": {
        "id": "2peiyAB9pxhM"
      },
      "source": [
        "# 1.0. Descriptive Statistics"
      ]
    },
    {
      "cell_type": "code",
      "execution_count": null,
      "metadata": {
        "colab": {
          "base_uri": "https://localhost:8080/"
        },
        "id": "DQFU2tmSoZBj",
        "outputId": "5e87ce4b-881d-40bc-d03a-0b084d67ff28"
      },
      "outputs": [],
      "source": [
        "data.columns"
      ]
    },
    {
      "cell_type": "code",
      "execution_count": null,
      "metadata": {
        "id": "KPydClplpzqg"
      },
      "outputs": [],
      "source": [
        "num = data.select_dtypes(exclude = ['object'])\n",
        "cat = data.select_dtypes(include = ['object'])"
      ]
    },
    {
      "cell_type": "code",
      "execution_count": null,
      "metadata": {
        "id": "jCey7sjQrCJ2"
      },
      "outputs": [],
      "source": [
        "num_cols = num.columns\n",
        "cat_cols = cat.columns"
      ]
    },
    {
      "attachments": {},
      "cell_type": "markdown",
      "metadata": {
        "id": "LcqJ5oOAqOsX"
      },
      "source": [
        "## 1.0.1. Numerical Features"
      ]
    },
    {
      "cell_type": "code",
      "execution_count": null,
      "metadata": {
        "colab": {
          "base_uri": "https://localhost:8080/"
        },
        "id": "b-mzh6XDqAft",
        "outputId": "fc7c8d03-f17c-4d28-ddc5-7e511b177644"
      },
      "outputs": [],
      "source": [
        "num.columns"
      ]
    },
    {
      "cell_type": "code",
      "execution_count": null,
      "metadata": {
        "colab": {
          "base_uri": "https://localhost:8080/",
          "height": 175
        },
        "id": "HDkzYLkOq0yD",
        "outputId": "63d3fa55-75ac-4f9c-da33-40dbd70106c1"
      },
      "outputs": [],
      "source": [
        "num.describe(percentiles = [0.25, 0.5, 0.75, 0.9, 0.95]).T"
      ]
    },
    {
      "cell_type": "code",
      "execution_count": null,
      "metadata": {
        "colab": {
          "base_uri": "https://localhost:8080/",
          "height": 1000
        },
        "id": "yiNuo2Czq2p2",
        "outputId": "ee8e98d7-f4ce-4714-edea-586fbe8210f9"
      },
      "outputs": [],
      "source": [
        "for i in num_cols:\n",
        "  sns.histplot(data[i], kde=False)\n",
        "  plt.show()"
      ]
    },
    {
      "attachments": {},
      "cell_type": "markdown",
      "metadata": {
        "id": "3_RQjpaiqSpf"
      },
      "source": [
        "## 1.0.2. Categorical Features"
      ]
    },
    {
      "cell_type": "code",
      "execution_count": null,
      "metadata": {
        "colab": {
          "base_uri": "https://localhost:8080/"
        },
        "id": "Hm8Wl7P-qTRE",
        "outputId": "cc109b77-5788-4ee5-dade-99e44352a55f"
      },
      "outputs": [],
      "source": [
        "cat.columns"
      ]
    },
    {
      "cell_type": "code",
      "execution_count": null,
      "metadata": {
        "colab": {
          "base_uri": "https://localhost:8080/",
          "height": 551
        },
        "id": "60Amb9TvqYqL",
        "outputId": "475c921c-a833-4043-8332-b464b9817c8a"
      },
      "outputs": [],
      "source": [
        "cat.describe().T"
      ]
    },
    {
      "cell_type": "code",
      "execution_count": null,
      "metadata": {
        "colab": {
          "base_uri": "https://localhost:8080/"
        },
        "id": "3nTwny2RHlyd",
        "outputId": "6cf39bec-1084-4d89-ea80-9721ec719431"
      },
      "outputs": [],
      "source": [
        "data['gender'].value_counts(normalize=True)"
      ]
    },
    {
      "cell_type": "code",
      "execution_count": null,
      "metadata": {
        "colab": {
          "base_uri": "https://localhost:8080/"
        },
        "id": "Wa5GTEHdHv74",
        "outputId": "4da030ee-59d5-49d4-ca17-de08e1d4c9ca"
      },
      "outputs": [],
      "source": [
        "data['InternetService'].value_counts(normalize=True)"
      ]
    },
    {
      "cell_type": "code",
      "execution_count": null,
      "metadata": {
        "colab": {
          "base_uri": "https://localhost:8080/"
        },
        "id": "_BuGU99rJRd7",
        "outputId": "b28acda5-49e5-40b7-f24c-ca9e6e6202b2"
      },
      "outputs": [],
      "source": [
        "data['Contract'].value_counts(normalize=True)"
      ]
    },
    {
      "cell_type": "code",
      "execution_count": null,
      "metadata": {
        "colab": {
          "base_uri": "https://localhost:8080/"
        },
        "id": "yd9orbhbJSlQ",
        "outputId": "2e7661c9-c92b-4da8-905f-64c5936af3a4"
      },
      "outputs": [],
      "source": [
        "data['PaymentMethod'].value_counts(normalize=True)"
      ]
    },
    {
      "cell_type": "code",
      "execution_count": null,
      "metadata": {
        "colab": {
          "base_uri": "https://localhost:8080/",
          "height": 1000
        },
        "id": "Pl272V5frMpD",
        "outputId": "0b564d7e-cb0a-44ee-e10b-b630fa0b226b"
      },
      "outputs": [],
      "source": [
        "for i in cat_cols:\n",
        "    if i!= 'customerID':\n",
        "        sns.countplot(x = i, data = data)\n",
        "        plt.show()"
      ]
    },
    {
      "attachments": {},
      "cell_type": "markdown",
      "metadata": {
        "id": "7LldFzht64LM"
      },
      "source": [
        "# 1.1. Data Visualization"
      ]
    },
    {
      "cell_type": "code",
      "execution_count": null,
      "metadata": {
        "id": "Du8d4Bk27WAR"
      },
      "outputs": [],
      "source": [
        "data_num = num.columns\n",
        "data_cat = cat.columns"
      ]
    },
    {
      "cell_type": "code",
      "execution_count": null,
      "metadata": {
        "colab": {
          "base_uri": "https://localhost:8080/"
        },
        "id": "Zmd6EbY2Fed3",
        "outputId": "c5184236-2792-4a66-a156-6cbd1e01983d"
      },
      "outputs": [],
      "source": [
        "len(data_num)"
      ]
    },
    {
      "cell_type": "code",
      "execution_count": null,
      "metadata": {
        "colab": {
          "base_uri": "https://localhost:8080/"
        },
        "id": "gGeH1I-gFhxV",
        "outputId": "919b32f2-3946-4e37-ca8e-6d22ab2c964f"
      },
      "outputs": [],
      "source": [
        "len(data_cat)"
      ]
    },
    {
      "attachments": {},
      "cell_type": "markdown",
      "metadata": {
        "id": "Ae8xLY6s6-LN"
      },
      "source": [
        "## 1.1.1. Univariate Analysis"
      ]
    },
    {
      "cell_type": "code",
      "execution_count": null,
      "metadata": {
        "colab": {
          "base_uri": "https://localhost:8080/",
          "height": 281
        },
        "id": "HSF9oJiUFyNm",
        "outputId": "a6ec27d8-a412-4661-c1b1-a0697cd2c273"
      },
      "outputs": [],
      "source": [
        "from matplotlib import rcParams\n",
        "\n",
        "rcParams['figure.figsize'] = 8, 3\n",
        "\n",
        "for i in range(0, len(data_num)):\n",
        "    plt.subplot(1, 4, i + 1)\n",
        "    sns.kdeplot(x=data[data_num[i]], color='steelblue')\n",
        "    plt.xlabel(data_num[i])\n",
        "    plt.title(data_num[i],\n",
        "              fontsize=12,\n",
        "              fontweight='bold')\n",
        "    plt.tight_layout(pad=2)"
      ]
    },
    {
      "cell_type": "code",
      "execution_count": null,
      "metadata": {
        "colab": {
          "base_uri": "https://localhost:8080/",
          "height": 281
        },
        "id": "uHj3MogkF6y1",
        "outputId": "71bd8475-4212-42e3-fc29-b31f70291494"
      },
      "outputs": [],
      "source": [
        "for i in range(0, len(data_num)):\n",
        "    plt.subplot(1, 4, i + 1)\n",
        "    sns.boxplot(x=data[data_num[i]],\n",
        "                color='lightsteelblue',\n",
        "                orient='h')\n",
        "    plt.title(data_num[i],\n",
        "              fontsize=12,\n",
        "              fontweight='bold')\n",
        "    plt.tight_layout(pad=2)"
      ]
    },
    {
      "cell_type": "code",
      "execution_count": null,
      "metadata": {
        "colab": {
          "base_uri": "https://localhost:8080/",
          "height": 281
        },
        "id": "GWuBeb7XLrVQ",
        "outputId": "17f80e8a-daad-4089-d50e-357bb7ad4595"
      },
      "outputs": [],
      "source": [
        "for i in range(0, len(data_num)):\n",
        "    plt.subplot(1, 4, i + 1)\n",
        "    sns.violinplot(x=data[data_num[i]],\n",
        "                   color='lightsteelblue',\n",
        "                   orient='h')\n",
        "    plt.title(data_num[i],\n",
        "              fontsize=12,\n",
        "              fontweight='bold')\n",
        "    plt.tight_layout(pad=2)"
      ]
    },
    {
      "attachments": {},
      "cell_type": "markdown",
      "metadata": {
        "id": "TNOT3YBO6-CG"
      },
      "source": [
        "## 1.1.2. Multivariate Analysis"
      ]
    },
    {
      "attachments": {},
      "cell_type": "markdown",
      "metadata": {
        "id": "dC4DKWyH3_ca"
      },
      "source": [
        "### 1.1.2.1. Distribusi Data"
      ]
    },
    {
      "cell_type": "code",
      "execution_count": null,
      "metadata": {
        "colab": {
          "base_uri": "https://localhost:8080/",
          "height": 364
        },
        "id": "Hr-8cydtGJUT",
        "outputId": "72248137-fdcc-4760-db7b-9bc1dfa18e39"
      },
      "outputs": [],
      "source": [
        "rcParams['figure.figsize'] = 15, 4\n",
        "\n",
        "for i in range(0, len(data_num)):\n",
        "    plt.subplot(1, 4, i + 1)\n",
        "    sns.kdeplot(x=data[data_num[i]], data=data, hue='Churn', color='steelblue', fill=True, alpha=0.5)\n",
        "    plt.xlabel(data_num[i])\n",
        "    plt.title(data_num[i], fontsize=12, fontweight='bold')\n",
        "    plt.tight_layout(pad=2)\n",
        "plt.show()"
      ]
    },
    {
      "attachments": {},
      "cell_type": "markdown",
      "metadata": {
        "id": "4ZN1BU1J2QUv"
      },
      "source": [
        "* Customer who **is not senior citizen** is more likely to churn.\n",
        "* Customer with **lower tenure** is more likely to churn.\n",
        "* Customer with **higher monthly charge**s has more tendency to churn.\n",
        "* Customer with **lower total charges** has more tendency to churn."
      ]
    },
    {
      "cell_type": "code",
      "execution_count": null,
      "metadata": {
        "colab": {
          "base_uri": "https://localhost:8080/"
        },
        "id": "GO7b6abOkdHL",
        "outputId": "537ffb36-1977-4be0-f008-e4eb1731fc0d"
      },
      "outputs": [],
      "source": [
        "# calculate numerical feature skewness\n",
        "skewness = num.skew()\n",
        "skewness"
      ]
    },
    {
      "attachments": {},
      "cell_type": "markdown",
      "metadata": {
        "id": "_NRnOYDyk5Ek"
      },
      "source": [
        "* SeniorCitizen has high modal on 0 value and lower modal on 1 value, indicating a positive skew value.\n",
        "* tenure has bimodal skewness, with high modal on range 0-20 values and low modal on range 20-60 values indicating positive skew. Then high modal on range 60-80 values indicating negative skew value.\n",
        "* MonthlyCharges also has bimodal skewness with both are negative skew.\n",
        "* TotalCharges has a concentration of lower values and a long tail on the right side indicating positive skew."
      ]
    },
    {
      "cell_type": "code",
      "execution_count": null,
      "metadata": {
        "colab": {
          "base_uri": "https://localhost:8080/",
          "height": 1000
        },
        "id": "bHoT0oO87GO2",
        "outputId": "92e49e07-186a-45d5-e35c-759dbbd76055"
      },
      "outputs": [],
      "source": [
        "# Define the figure size\n",
        "sns.set(rc={'figure.figsize':(20,15)})\n",
        "\n",
        "# Loop over each categorical feature\n",
        "for i, cat in enumerate(data_cat):\n",
        "    \n",
        "    # Create a subplot for each feature\n",
        "    plt.subplot(4, 4, i+1)\n",
        "    \n",
        "    # Create a countplot for the feature, color-coded by Churn\n",
        "    sns.countplot(x=cat, hue='Churn', data=data, palette='muted')\n",
        "    \n",
        "    # Set the title and axis labels\n",
        "    plt.title(f'{cat} vs Churn')\n",
        "    plt.ylabel('Count')\n",
        "    \n",
        "    # Add legend to the plot\n",
        "    plt.legend(title='Churn', loc='best')\n",
        "    \n",
        "    # Set the spacing between subplots\n",
        "    plt.tight_layout(pad=2)\n",
        "    \n",
        "# Show the plot\n",
        "plt.show()\n"
      ]
    },
    {
      "attachments": {},
      "cell_type": "markdown",
      "metadata": {
        "id": "ZG-QATJv1WUf"
      },
      "source": [
        "* Customers **without partner** have **higher churn rate** than customers with partner.\n",
        "* Customers **without dependents** have **higher churn rate** than customers with dependents.\n",
        "* Customers **without phone service** have **higher churn rate** than customers with phone service.\n",
        "* Customers **with Fiber optic** internet service have **high tendency to churn** than DSL internet service, and customers without internet service have relatively low churn rates\n",
        "* Customers **without online security** have **higher churn rate** than customers with online security. \n",
        "* Customers **without online backup** have **higher churn rate** than customers without online backup.\n",
        "* Customers **without device protection** have **higher churn rate** than customers with device protection.\n",
        "* Customers **without tech support** have **higher churn rate** than customers with tech support.\n",
        "* Customers **with streaming TV** have **higher churn rate** than customers without streaming TV.\n",
        "* Customers **with streaming movies** have **higher churn rate** than customers without streaming movies.\n",
        "* Customers **with a month-to-month contract** have **higher churn rate** than customers with longer-term contracts.\n",
        "* Customers **with paperless billing** have **higher churn rate** than customers without paperless billing.\n",
        "* Customers who **pay with electronic check** have **high tendency to churn** than customers with other payment methods."
      ]
    },
    {
      "attachments": {},
      "cell_type": "markdown",
      "metadata": {
        "id": "xEc0WS2B5E5h"
      },
      "source": [
        "# 2. Feature Engineering"
      ]
    },
    {
      "attachments": {},
      "cell_type": "markdown",
      "metadata": {
        "id": "7ou8_5Hm786C"
      },
      "source": [
        "### 2.1. Fixing Data Type"
      ]
    },
    {
      "cell_type": "code",
      "execution_count": null,
      "metadata": {
        "colab": {
          "base_uri": "https://localhost:8080/",
          "height": 162
        },
        "id": "RU_ERoRISJVP",
        "outputId": "f7b35a43-c068-4493-abfc-bca30a7dfad5"
      },
      "outputs": [],
      "source": [
        "data.sample()"
      ]
    },
    {
      "cell_type": "code",
      "execution_count": null,
      "metadata": {
        "colab": {
          "base_uri": "https://localhost:8080/"
        },
        "id": "4zj4QrtWPr1d",
        "outputId": "3b282b0d-b409-4fbe-be7f-a07e5b456f3a"
      },
      "outputs": [],
      "source": [
        "data.dtypes"
      ]
    },
    {
      "attachments": {},
      "cell_type": "markdown",
      "metadata": {
        "id": "tz2xHPuYXhfD"
      },
      "source": [
        "According to dataset above, there is no missmatch data types. feature SeniorCitizen is supposed to be in categorical type (True or False), not in numerical type (0 or 1) but we will left it as it is since we will encoding all the feature to numeric for modeling."
      ]
    },
    {
      "cell_type": "code",
      "execution_count": null,
      "metadata": {
        "id": "KJbDANiUXgkF"
      },
      "outputs": [],
      "source": []
    },
    {
      "attachments": {},
      "cell_type": "markdown",
      "metadata": {
        "id": "yf4iMwbA79G5"
      },
      "source": [
        "### 2.2. Handling Missing Values"
      ]
    },
    {
      "cell_type": "code",
      "execution_count": null,
      "metadata": {
        "colab": {
          "base_uri": "https://localhost:8080/"
        },
        "id": "MXG3Oc66YUiJ",
        "outputId": "34332b9d-6acd-4b81-a3d4-25ce8d66922a"
      },
      "outputs": [],
      "source": [
        "data.isna().sum()"
      ]
    },
    {
      "attachments": {},
      "cell_type": "markdown",
      "metadata": {
        "id": "rEpXB8C_GELg"
      },
      "source": [
        "### 2.3. Handling Duplicate Values"
      ]
    },
    {
      "cell_type": "code",
      "execution_count": null,
      "metadata": {
        "colab": {
          "base_uri": "https://localhost:8080/"
        },
        "id": "vgCluL-QYZOk",
        "outputId": "e8d236c1-ca3d-41c3-b38d-01588a6577ba"
      },
      "outputs": [],
      "source": [
        "data.duplicated().sum()"
      ]
    },
    {
      "cell_type": "code",
      "execution_count": null,
      "metadata": {
        "colab": {
          "base_uri": "https://localhost:8080/",
          "height": 162
        },
        "id": "990If4x9rYVI",
        "outputId": "2316bc8c-a49d-4e03-decf-e6ae81f593a4"
      },
      "outputs": [],
      "source": [
        "data.sample()"
      ]
    },
    {
      "attachments": {},
      "cell_type": "markdown",
      "metadata": {
        "id": "EI3eVW-1WVCZ"
      },
      "source": [
        "### 2.4. Feature Selection"
      ]
    },
    {
      "cell_type": "code",
      "execution_count": null,
      "metadata": {
        "colab": {
          "base_uri": "https://localhost:8080/",
          "height": 938
        },
        "id": "_r4bhIYdyIqD",
        "outputId": "3ae06134-cb99-4208-bdda-0582aafd07a0"
      },
      "outputs": [],
      "source": [
        "# Compute the correlation matrix\n",
        "corr_matrix = data.corr()\n",
        "\n",
        "# Create a heatmap with color scale and score values\n",
        "fig, ax = plt.subplots(figsize=(10, 10))\n",
        "heatmap = sns.heatmap(corr_matrix, annot=True, cmap='coolwarm', cbar_kws={'label': 'Correlation Coefficient'})\n",
        "\n",
        "# Set axis labels and title\n",
        "plt.xlabel('Features')\n",
        "plt.ylabel('Features')\n",
        "plt.title('Correlation Matrix Heatmap')\n",
        "\n",
        "# Show the plot\n",
        "plt.show()\n"
      ]
    },
    {
      "attachments": {},
      "cell_type": "markdown",
      "metadata": {
        "id": "uS6YcryvGiHI"
      },
      "source": [
        "### 2.5. Handling Outliers"
      ]
    },
    {
      "attachments": {},
      "cell_type": "markdown",
      "metadata": {
        "id": "5RWtv3Y7U5Rq"
      },
      "source": [
        "### 2.6. Feature Standardization"
      ]
    },
    {
      "attachments": {},
      "cell_type": "markdown",
      "metadata": {
        "id": "jpRc_DI8wD5T"
      },
      "source": [
        "# 3. Modelling and Evaluation"
      ]
    },
    {
      "attachments": {},
      "cell_type": "markdown",
      "metadata": {
        "id": "_6KzGfb8wKWL"
      },
      "source": [
        "# 4. Model Interpretation and Recommendation"
      ]
    }
  ],
  "metadata": {
    "colab": {
      "provenance": []
    },
    "kernelspec": {
      "display_name": "Python 3",
      "name": "python3"
    },
    "language_info": {
      "codemirror_mode": {
        "name": "ipython",
        "version": 3
      },
      "file_extension": ".py",
      "mimetype": "text/x-python",
      "name": "python",
      "nbconvert_exporter": "python",
      "pygments_lexer": "ipython3",
      "version": "3.10.9"
    }
  },
  "nbformat": 4,
  "nbformat_minor": 0
}
